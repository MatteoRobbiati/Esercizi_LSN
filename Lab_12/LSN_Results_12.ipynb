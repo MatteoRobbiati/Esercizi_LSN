{
 "cells": [
  {
   "cell_type": "code",
   "execution_count": 32,
   "metadata": {},
   "outputs": [],
   "source": [
    "import os\n",
    "import numpy as np\n",
    "import matplotlib.pyplot as plt\n",
    "\n",
    "import tensorflow as tf\n",
    "from tensorflow.keras.preprocessing.image import ImageDataGenerator\n",
    "from tensorflow.keras.models import Sequential,load_model\n",
    "from tensorflow.keras.layers import Activation, Dense, Input, Conv2D, MaxPool2D, Dropout, Flatten, BatchNormalization\n",
    "from tensorflow.keras.layers import Reshape, Conv2DTranspose, UpSampling2D\n",
    "from tensorflow.python.keras.optimizer_v2.adam import Adam\n",
    "from keras.layers.merge import concatenate\n",
    "\n",
    "from tensorflow.keras import datasets, layers, models\n",
    "from tensorflow.keras import optimizers\n",
    "from tensorflow.keras import regularizers\n",
    "\n",
    "from tensorflow.keras.callbacks import EarlyStopping\n",
    "from keras.layers.advanced_activations import LeakyReLU\n",
    "from keras.models import Model\n",
    "from tensorflow.keras.utils import to_categorical, plot_model\n",
    "from tensorflow.keras.optimizers import SGD\n",
    "\n",
    "from tensorflow.keras.optimizers import Adam\n",
    "from tensorflow.keras.utils import to_categorical\n",
    "from tensorflow import keras\n",
    "import time"
   ]
  },
  {
   "cell_type": "code",
   "execution_count": 33,
   "metadata": {},
   "outputs": [],
   "source": [
    "seed=0\n",
    "np.random.seed(seed) # fix random seed\n",
    "tf.random.set_seed(seed)"
   ]
  },
  {
   "cell_type": "code",
   "execution_count": 34,
   "metadata": {},
   "outputs": [
    {
     "name": "stdout",
     "output_type": "stream",
     "text": [
      "X_train shape: (60000, 28, 28, 1)\n",
      "Y_train shape: (60000, 10)\n",
      "\n",
      "60000 train samples\n",
      "10000 test samples\n"
     ]
    }
   ],
   "source": [
    "from keras.datasets import mnist\n",
    "\n",
    "# input image dimensions\n",
    "img_rows, img_cols = 28, 28 # number of pixels \n",
    "# output\n",
    "num_classes = 10 # 10 digits\n",
    "\n",
    "# the data, split between train and test sets\n",
    "(X_train, Y_train), (X_test, Y_test) = mnist.load_data()\n",
    "\n",
    "X_train = X_train.reshape(X_train.shape[0],28,28,1)\n",
    "X_test  = X_test.reshape(X_test.shape[0],28,28,1)\n",
    "\n",
    "Y_train = to_categorical(Y_train)\n",
    "Y_test  = to_categorical(Y_test) \n",
    "\n",
    "\n",
    "print('X_train shape:', X_train.shape)\n",
    "print('Y_train shape:', Y_train.shape)\n",
    "print()\n",
    "print(X_train.shape[0], 'train samples')\n",
    "print(X_test.shape[0], 'test samples')"
   ]
  },
  {
   "cell_type": "code",
   "execution_count": 73,
   "metadata": {},
   "outputs": [],
   "source": [
    "#la struttura di base della rete che ho scelto di sviluppare è una sequenza di:\n",
    "# convoluzione -> pooling --> convoluzione --> pooling --> dropout --> BatchNormalization\n",
    "# la ripeto a piacere e poi riporto i parametri ad uno strato Dense di dimensione 10, come le classi\n",
    "\n",
    "def spawn_CNN(times, lmbd):\n",
    "    CNN = Sequential()\n",
    "    \n",
    "    for i in range(times):\n",
    "        CNN.add(Conv2D(filters=24,kernel_size=(3,3),padding='same',input_shape=(28,28,1),activation='relu', kernel_regularizer=regularizers.l2(lmbd)))\n",
    "        CNN.add(MaxPool2D(pool_size=(2,2)))\n",
    "        CNN.add(Conv2D(filters=24,kernel_size=(3,3),padding='same',input_shape=(28,28,1),activation='relu', kernel_regularizer=regularizers.l2(lmbd)))\n",
    "        CNN.add(MaxPool2D(pool_size=(2,2)))\n",
    "        CNN.add(Dropout(rate=0.25))\n",
    "        \n",
    "    CNN.add(Flatten())\n",
    "    CNN.add(Dense(24,activation='relu', kernel_regularizer=regularizers.l2(lmbd)))\n",
    "    CNN.add(Dropout(rate=0.25))\n",
    "    CNN.add(Dense(100, activation='relu', kernel_initializer='he_uniform'))\n",
    "    CNN.add(Dense(10,activation='softmax', kernel_regularizer=regularizers.l2(lmbd)))\n",
    "    \n",
    "    opt = SGD(learning_rate=0.01, momentum=0.9)\n",
    "    CNN.compile(optimizer=opt, loss='categorical_crossentropy', metrics=['accuracy'])\n",
    "    return CNN"
   ]
  },
  {
   "cell_type": "code",
   "execution_count": 75,
   "metadata": {},
   "outputs": [
    {
     "name": "stdout",
     "output_type": "stream",
     "text": [
      "Model: \"sequential_3\"\n",
      "_________________________________________________________________\n",
      "Layer (type)                 Output Shape              Param #   \n",
      "=================================================================\n",
      "conv2d_36 (Conv2D)           (None, 28, 28, 24)        240       \n",
      "_________________________________________________________________\n",
      "max_pooling2d_35 (MaxPooling (None, 14, 14, 24)        0         \n",
      "_________________________________________________________________\n",
      "conv2d_37 (Conv2D)           (None, 14, 14, 24)        5208      \n",
      "_________________________________________________________________\n",
      "max_pooling2d_36 (MaxPooling (None, 7, 7, 24)          0         \n",
      "_________________________________________________________________\n",
      "dropout_32 (Dropout)         (None, 7, 7, 24)          0         \n",
      "_________________________________________________________________\n",
      "flatten_18 (Flatten)         (None, 1176)              0         \n",
      "_________________________________________________________________\n",
      "dense_39 (Dense)             (None, 24)                28248     \n",
      "_________________________________________________________________\n",
      "dropout_33 (Dropout)         (None, 24)                0         \n",
      "_________________________________________________________________\n",
      "dense_40 (Dense)             (None, 100)               2500      \n",
      "_________________________________________________________________\n",
      "dense_41 (Dense)             (None, 10)                1010      \n",
      "=================================================================\n",
      "Total params: 37,206\n",
      "Trainable params: 37,206\n",
      "Non-trainable params: 0\n",
      "_________________________________________________________________\n"
     ]
    }
   ],
   "source": [
    "myCNN = spawn_CNN(1, 0.001)\n",
    "myCNN.summary()"
   ]
  },
  {
   "cell_type": "code",
   "execution_count": 76,
   "metadata": {},
   "outputs": [
    {
     "name": "stdout",
     "output_type": "stream",
     "text": [
      "Epoch 1/10\n",
      "2500/2500 [==============================] - 38s 15ms/step - loss: 12877.6963 - accuracy: 0.1099 - val_loss: 7566.4399 - val_accuracy: 0.1135\n",
      "Epoch 2/10\n",
      "2500/2500 [==============================] - 36s 15ms/step - loss: 4780.8857 - accuracy: 0.1104 - val_loss: 2779.6770 - val_accuracy: 0.1028\n",
      "Epoch 3/10\n",
      "2500/2500 [==============================] - 39s 16ms/step - loss: 1756.8982 - accuracy: 0.1103 - val_loss: 1022.0970 - val_accuracy: 0.1135\n",
      "Epoch 4/10\n",
      "2500/2500 [==============================] - 39s 16ms/step - loss: 646.5506 - accuracy: 0.1116 - val_loss: 376.7491 - val_accuracy: 0.1028\n",
      "Epoch 5/10\n",
      "2500/2500 [==============================] - 40s 16ms/step - loss: 238.8570 - accuracy: 0.1104 - val_loss: 139.7910 - val_accuracy: 0.1135\n",
      "Epoch 6/10\n",
      "2500/2500 [==============================] - 40s 16ms/step - loss: 89.1601 - accuracy: 0.1106 - val_loss: 52.7846 - val_accuracy: 0.1010\n",
      "Epoch 7/10\n",
      "2500/2500 [==============================] - 42s 17ms/step - loss: 34.1945 - accuracy: 0.1103 - val_loss: 20.8376 - val_accuracy: 0.1135\n",
      "Epoch 8/10\n",
      "2500/2500 [==============================] - 42s 17ms/step - loss: 14.0124 - accuracy: 0.1101 - val_loss: 9.1079 - val_accuracy: 0.1028\n",
      "Epoch 9/10\n",
      "2500/2500 [==============================] - 40s 16ms/step - loss: 6.6019 - accuracy: 0.1101 - val_loss: 4.8004 - val_accuracy: 0.1135\n",
      "Epoch 10/10\n",
      "2500/2500 [==============================] - 40s 16ms/step - loss: 3.8808 - accuracy: 0.1108 - val_loss: 3.2200 - val_accuracy: 0.1135\n"
     ]
    }
   ],
   "source": [
    "history = myCNN.fit(X_train, Y_train, batch_size=24, epochs=10, verbose=1, validation_data=(X_test, Y_test))"
   ]
  },
  {
   "cell_type": "code",
   "execution_count": 79,
   "metadata": {},
   "outputs": [
    {
     "data": {
      "image/png": "[encoded data removed]",
      "text/plain": [
       "<Figure size 432x288 with 1 Axes>"
      ]
     },
     "metadata": {
      "needs_background": "light"
     },
     "output_type": "display_data"
    }
   ],
   "source": [
    "plt.plot(history.history['loss'])\n",
    "plt.plot(history.history['val_loss'])\n",
    "plt.show()"
   ]
  },
  {
   "cell_type": "code",
   "execution_count": null,
   "metadata": {},
   "outputs": [],
   "source": []
  }
 ],
 "metadata": {
  "kernelspec": {
   "display_name": "Python 3 (ipykernel)",
   "language": "python",
   "name": "python3"
  },
  "language_info": {
   "codemirror_mode": {
    "name": "ipython",
    "version": 3
   },
   "file_extension": ".py",
   "mimetype": "text/x-python",
   "name": "python",
   "nbconvert_exporter": "python",
   "pygments_lexer": "ipython3",
   "version": "3.8.5"
  }
 },
 "nbformat": 4,
 "nbformat_minor": 4
}
